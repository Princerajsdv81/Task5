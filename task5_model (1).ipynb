{
 "cells": [
  {
   "cell_type": "code",
   "execution_count": 1,
   "metadata": {},
   "outputs": [],
   "source": [
    "import pandas as pd"
   ]
  },
  {
   "cell_type": "code",
   "execution_count": 2,
   "metadata": {},
   "outputs": [
    {
     "data": {
      "text/html": [
       "<div>\n",
       "<style scoped>\n",
       "    .dataframe tbody tr th:only-of-type {\n",
       "        vertical-align: middle;\n",
       "    }\n",
       "\n",
       "    .dataframe tbody tr th {\n",
       "        vertical-align: top;\n",
       "    }\n",
       "\n",
       "    .dataframe thead th {\n",
       "        text-align: right;\n",
       "    }\n",
       "</style>\n",
       "<table border=\"1\" class=\"dataframe\">\n",
       "  <thead>\n",
       "    <tr style=\"text-align: right;\">\n",
       "      <th></th>\n",
       "      <th>IP</th>\n",
       "      <th>DATE</th>\n",
       "      <th>OUTPUT</th>\n",
       "    </tr>\n",
       "  </thead>\n",
       "  <tbody>\n",
       "    <tr>\n",
       "      <th>0</th>\n",
       "      <td>192.168.43.241</td>\n",
       "      <td>06/Jul/2020:03:47:28 +0530</td>\n",
       "      <td>403 3985</td>\n",
       "    </tr>\n",
       "    <tr>\n",
       "      <th>1</th>\n",
       "      <td>192.168.43.241</td>\n",
       "      <td>06/Jul/2020:03:47:28 +0530</td>\n",
       "      <td>403 3985</td>\n",
       "    </tr>\n",
       "    <tr>\n",
       "      <th>2</th>\n",
       "      <td>192.168.43.241</td>\n",
       "      <td>06/Jul/2020:03:47:28 +0530</td>\n",
       "      <td>403 3985</td>\n",
       "    </tr>\n",
       "    <tr>\n",
       "      <th>3</th>\n",
       "      <td>192.168.43.241</td>\n",
       "      <td>06/Jul/2020:03:47:28 +0530</td>\n",
       "      <td>403 3985</td>\n",
       "    </tr>\n",
       "    <tr>\n",
       "      <th>4</th>\n",
       "      <td>192.168.43.241</td>\n",
       "      <td>06/Jul/2020:03:47:28 +0530</td>\n",
       "      <td>403 3985</td>\n",
       "    </tr>\n",
       "    <tr>\n",
       "      <th>...</th>\n",
       "      <td>...</td>\n",
       "      <td>...</td>\n",
       "      <td>...</td>\n",
       "    </tr>\n",
       "    <tr>\n",
       "      <th>124940</th>\n",
       "      <td>192.168.43.241</td>\n",
       "      <td>06/Jul/2020:03:52:11 +0530</td>\n",
       "      <td>403 3985</td>\n",
       "    </tr>\n",
       "    <tr>\n",
       "      <th>124941</th>\n",
       "      <td>192.168.43.241</td>\n",
       "      <td>06/Jul/2020:03:53:03 +0530</td>\n",
       "      <td></td>\n",
       "    </tr>\n",
       "    <tr>\n",
       "      <th>124942</th>\n",
       "      <td>192.168.43.241</td>\n",
       "      <td>06/Jul/2020:04:02:37 +0530</td>\n",
       "      <td>GET /index.html HTTP/1.1</td>\n",
       "    </tr>\n",
       "    <tr>\n",
       "      <th>124943</th>\n",
       "      <td>192.168.43.241</td>\n",
       "      <td>06/Jul/2020:04:02:37 +0530</td>\n",
       "      <td>GET /favicon.ico HTTP/1.1</td>\n",
       "    </tr>\n",
       "    <tr>\n",
       "      <th>124944</th>\n",
       "      <td>192.168.43.241</td>\n",
       "      <td>06/Jul/2020:04:03:28 +0530</td>\n",
       "      <td></td>\n",
       "    </tr>\n",
       "  </tbody>\n",
       "</table>\n",
       "<p>124945 rows × 3 columns</p>\n",
       "</div>"
      ],
      "text/plain": [
       "                    IP                        DATE                     OUTPUT\n",
       "0       192.168.43.241  06/Jul/2020:03:47:28 +0530                  403 3985 \n",
       "1       192.168.43.241  06/Jul/2020:03:47:28 +0530                  403 3985 \n",
       "2       192.168.43.241  06/Jul/2020:03:47:28 +0530                  403 3985 \n",
       "3       192.168.43.241  06/Jul/2020:03:47:28 +0530                  403 3985 \n",
       "4       192.168.43.241  06/Jul/2020:03:47:28 +0530                  403 3985 \n",
       "...                ...                         ...                        ...\n",
       "124940  192.168.43.241  06/Jul/2020:03:52:11 +0530                  403 3985 \n",
       "124941  192.168.43.241  06/Jul/2020:03:53:03 +0530                           \n",
       "124942  192.168.43.241  06/Jul/2020:04:02:37 +0530   GET /index.html HTTP/1.1\n",
       "124943  192.168.43.241  06/Jul/2020:04:02:37 +0530  GET /favicon.ico HTTP/1.1\n",
       "124944  192.168.43.241  06/Jul/2020:04:03:28 +0530                           \n",
       "\n",
       "[124945 rows x 3 columns]"
      ]
     },
     "execution_count": 2,
     "metadata": {},
     "output_type": "execute_result"
    }
   ],
   "source": [
    "dataset = pd.read_csv('C:/Users/Prince Raj/Desktop/mylogs.csv')\n",
    "dataset"
   ]
  },
  {
   "cell_type": "code",
   "execution_count": 3,
   "metadata": {},
   "outputs": [
    {
     "data": {
      "text/plain": [
       "Index(['IP', 'DATE', 'OUTPUT'], dtype='object')"
      ]
     },
     "execution_count": 3,
     "metadata": {},
     "output_type": "execute_result"
    }
   ],
   "source": [
    "dataset.columns"
   ]
  },
  {
   "cell_type": "code",
   "execution_count": 4,
   "metadata": {},
   "outputs": [],
   "source": [
    "from sklearn.preprocessing import OneHotEncoder, LabelEncoder"
   ]
  },
  {
   "cell_type": "code",
   "execution_count": 5,
   "metadata": {},
   "outputs": [
    {
     "data": {
      "text/plain": [
       "array([['192.168.43.241', '06/Jul/2020:03:47:28 +0530', ' 403 3985 '],\n",
       "       ['192.168.43.241', '06/Jul/2020:03:47:28 +0530', ' 403 3985 '],\n",
       "       ['192.168.43.241', '06/Jul/2020:03:47:28 +0530', ' 403 3985 '],\n",
       "       ...,\n",
       "       ['192.168.43.241', '06/Jul/2020:04:02:37 +0530',\n",
       "        'GET /index.html HTTP/1.1'],\n",
       "       ['192.168.43.241', '06/Jul/2020:04:02:37 +0530',\n",
       "        'GET /favicon.ico HTTP/1.1'],\n",
       "       ['192.168.43.241', '06/Jul/2020:04:03:28 +0530', ' ']],\n",
       "      dtype=object)"
      ]
     },
     "execution_count": 5,
     "metadata": {},
     "output_type": "execute_result"
    }
   ],
   "source": [
    "X = dataset.iloc[:,:]\n",
    "x=X.to_numpy()\n",
    "x\n"
   ]
  },
  {
   "cell_type": "code",
   "execution_count": 6,
   "metadata": {},
   "outputs": [],
   "source": [
    "label = LabelEncoder()"
   ]
  },
  {
   "cell_type": "code",
   "execution_count": 7,
   "metadata": {},
   "outputs": [],
   "source": [
    "IP = label.fit_transform(x[:,0])\n",
    "Date = label.fit_transform(x[:,1])\n",
    "Output = label.fit_transform(x[:,2])"
   ]
  },
  {
   "cell_type": "code",
   "execution_count": 8,
   "metadata": {},
   "outputs": [],
   "source": [
    "ip = pd.DataFrame(IP, columns=[\"IPAddress\"])\n",
    "date = pd.DataFrame(Date, columns=[\"DATE\"])\n",
    "User = pd.DataFrame(Output, columns=[\"Client\"])"
   ]
  },
  {
   "cell_type": "code",
   "execution_count": 9,
   "metadata": {},
   "outputs": [
    {
     "data": {
      "text/html": [
       "<div>\n",
       "<style scoped>\n",
       "    .dataframe tbody tr th:only-of-type {\n",
       "        vertical-align: middle;\n",
       "    }\n",
       "\n",
       "    .dataframe tbody tr th {\n",
       "        vertical-align: top;\n",
       "    }\n",
       "\n",
       "    .dataframe thead th {\n",
       "        text-align: right;\n",
       "    }\n",
       "</style>\n",
       "<table border=\"1\" class=\"dataframe\">\n",
       "  <thead>\n",
       "    <tr style=\"text-align: right;\">\n",
       "      <th></th>\n",
       "      <th>IPAddress</th>\n",
       "      <th>DATE</th>\n",
       "      <th>Client</th>\n",
       "    </tr>\n",
       "  </thead>\n",
       "  <tbody>\n",
       "    <tr>\n",
       "      <th>0</th>\n",
       "      <td>3</td>\n",
       "      <td>0</td>\n",
       "      <td>1</td>\n",
       "    </tr>\n",
       "    <tr>\n",
       "      <th>1</th>\n",
       "      <td>3</td>\n",
       "      <td>0</td>\n",
       "      <td>1</td>\n",
       "    </tr>\n",
       "    <tr>\n",
       "      <th>2</th>\n",
       "      <td>3</td>\n",
       "      <td>0</td>\n",
       "      <td>1</td>\n",
       "    </tr>\n",
       "    <tr>\n",
       "      <th>3</th>\n",
       "      <td>3</td>\n",
       "      <td>0</td>\n",
       "      <td>1</td>\n",
       "    </tr>\n",
       "    <tr>\n",
       "      <th>4</th>\n",
       "      <td>3</td>\n",
       "      <td>0</td>\n",
       "      <td>1</td>\n",
       "    </tr>\n",
       "    <tr>\n",
       "      <th>...</th>\n",
       "      <td>...</td>\n",
       "      <td>...</td>\n",
       "      <td>...</td>\n",
       "    </tr>\n",
       "    <tr>\n",
       "      <th>124940</th>\n",
       "      <td>3</td>\n",
       "      <td>278</td>\n",
       "      <td>1</td>\n",
       "    </tr>\n",
       "    <tr>\n",
       "      <th>124941</th>\n",
       "      <td>3</td>\n",
       "      <td>279</td>\n",
       "      <td>0</td>\n",
       "    </tr>\n",
       "    <tr>\n",
       "      <th>124942</th>\n",
       "      <td>3</td>\n",
       "      <td>280</td>\n",
       "      <td>3</td>\n",
       "    </tr>\n",
       "    <tr>\n",
       "      <th>124943</th>\n",
       "      <td>3</td>\n",
       "      <td>280</td>\n",
       "      <td>2</td>\n",
       "    </tr>\n",
       "    <tr>\n",
       "      <th>124944</th>\n",
       "      <td>3</td>\n",
       "      <td>281</td>\n",
       "      <td>0</td>\n",
       "    </tr>\n",
       "  </tbody>\n",
       "</table>\n",
       "<p>124945 rows × 3 columns</p>\n",
       "</div>"
      ],
      "text/plain": [
       "        IPAddress  DATE  Client\n",
       "0               3     0       1\n",
       "1               3     0       1\n",
       "2               3     0       1\n",
       "3               3     0       1\n",
       "4               3     0       1\n",
       "...           ...   ...     ...\n",
       "124940          3   278       1\n",
       "124941          3   279       0\n",
       "124942          3   280       3\n",
       "124943          3   280       2\n",
       "124944          3   281       0\n",
       "\n",
       "[124945 rows x 3 columns]"
      ]
     },
     "execution_count": 9,
     "metadata": {},
     "output_type": "execute_result"
    }
   ],
   "source": [
    "DATASET = [ip , date , User]\n",
    "FINAL_DATASET = pd.concat(DATASET , axis=1)\n",
    "FINAL_DATASET"
   ]
  },
  {
   "cell_type": "code",
   "execution_count": 10,
   "metadata": {},
   "outputs": [
    {
     "data": {
      "text/plain": [
       "array([[ 7.43920004e-03, -1.60714516e+00, -1.06928085e-03],\n",
       "       [ 7.43920004e-03, -1.60714516e+00, -1.06928085e-03],\n",
       "       [ 7.43920004e-03, -1.60714516e+00, -1.06928085e-03],\n",
       "       ...,\n",
       "       [ 7.43920004e-03,  3.57000301e+00,  2.67201521e+02],\n",
       "       [ 7.43920004e-03,  3.57000301e+00,  1.33600226e+02],\n",
       "       [ 7.43920004e-03,  3.58849283e+00, -1.33602365e+02]])"
      ]
     },
     "execution_count": 10,
     "metadata": {},
     "output_type": "execute_result"
    }
   ],
   "source": [
    "from sklearn.preprocessing import StandardScaler\n",
    "sc = StandardScaler()\n",
    "SCALED_DATASET = sc.fit_transform(FINAL_DATASET)\n",
    "SCALED_DATASET"
   ]
  },
  {
   "cell_type": "code",
   "execution_count": 11,
   "metadata": {},
   "outputs": [],
   "source": [
    "import seaborn as sns"
   ]
  },
  {
   "cell_type": "code",
   "execution_count": 12,
   "metadata": {},
   "outputs": [],
   "source": [
    "sns.set()"
   ]
  },
  {
   "cell_type": "code",
   "execution_count": 13,
   "metadata": {},
   "outputs": [
    {
     "data": {
      "text/plain": [
       "<matplotlib.axes._subplots.AxesSubplot at 0x2ba1644ce48>"
      ]
     },
     "execution_count": 13,
     "metadata": {},
     "output_type": "execute_result"
    },
    {
     "data": {
      "image/png": "[encoded data removed]",
      "text/plain": [
       "<Figure size 432x288 with 1 Axes>"
      ]
     },
     "metadata": {},
     "output_type": "display_data"
    }
   ],
   "source": [
    "data=FINAL_DATASET['IPAddress']\n",
    "sns.distplot(data, kde=False)"
   ]
  },
  {
   "cell_type": "code",
   "execution_count": 14,
   "metadata": {},
   "outputs": [
    {
     "data": {
      "text/plain": [
       "<matplotlib.axes._subplots.AxesSubplot at 0x2ba14b99808>"
      ]
     },
     "execution_count": 14,
     "metadata": {},
     "output_type": "execute_result"
    },
    {
     "data": {
      "image/png": "[encoded data removed]",
      "text/plain": [
       "<Figure size 432x288 with 1 Axes>"
      ]
     },
     "metadata": {},
     "output_type": "display_data"
    }
   ],
   "source": [
    "sns.countplot(data=FINAL_DATASET , x=\"IPAddress\")"
   ]
  },
  {
   "cell_type": "code",
   "execution_count": 15,
   "metadata": {},
   "outputs": [
    {
     "data": {
      "text/plain": [
       "KMeans(algorithm='auto', copy_x=True, init='k-means++', max_iter=300,\n",
       "       n_clusters=15, n_init=10, n_jobs=None, precompute_distances='auto',\n",
       "       random_state=None, tol=0.0001, verbose=0)"
      ]
     },
     "execution_count": 15,
     "metadata": {},
     "output_type": "execute_result"
    }
   ],
   "source": [
    "from sklearn.cluster import KMeans\n",
    "model = KMeans(n_clusters=15)\n",
    "model.fit(SCALED_DATASET)"
   ]
  },
  {
   "cell_type": "code",
   "execution_count": 16,
   "metadata": {},
   "outputs": [],
   "source": [
    "pred = model.fit_predict(SCALED_DATASET)"
   ]
  },
  {
   "cell_type": "code",
   "execution_count": 17,
   "metadata": {},
   "outputs": [],
   "source": [
    "SCALED_DATASET = pd.DataFrame(SCALED_DATASET , columns=['IP', 'DATE','client'])\n",
    "SCALED_DATASET['cluster'] = pred"
   ]
  },
  {
   "cell_type": "code",
   "execution_count": 18,
   "metadata": {},
   "outputs": [],
   "source": [
    "ips = [dataset['IP'], FINAL_DATASET['IPAddress']]"
   ]
  },
  {
   "cell_type": "code",
   "execution_count": 19,
   "metadata": {},
   "outputs": [
    {
     "data": {
      "text/html": [
       "<div>\n",
       "<style scoped>\n",
       "    .dataframe tbody tr th:only-of-type {\n",
       "        vertical-align: middle;\n",
       "    }\n",
       "\n",
       "    .dataframe tbody tr th {\n",
       "        vertical-align: top;\n",
       "    }\n",
       "\n",
       "    .dataframe thead th {\n",
       "        text-align: right;\n",
       "    }\n",
       "</style>\n",
       "<table border=\"1\" class=\"dataframe\">\n",
       "  <thead>\n",
       "    <tr style=\"text-align: right;\">\n",
       "      <th></th>\n",
       "      <th>IP</th>\n",
       "      <th>IPAddress</th>\n",
       "    </tr>\n",
       "  </thead>\n",
       "  <tbody>\n",
       "    <tr>\n",
       "      <th>0</th>\n",
       "      <td>192.168.43.241</td>\n",
       "      <td>3</td>\n",
       "    </tr>\n",
       "    <tr>\n",
       "      <th>1</th>\n",
       "      <td>192.168.43.241</td>\n",
       "      <td>3</td>\n",
       "    </tr>\n",
       "    <tr>\n",
       "      <th>2</th>\n",
       "      <td>192.168.43.241</td>\n",
       "      <td>3</td>\n",
       "    </tr>\n",
       "    <tr>\n",
       "      <th>3</th>\n",
       "      <td>192.168.43.241</td>\n",
       "      <td>3</td>\n",
       "    </tr>\n",
       "    <tr>\n",
       "      <th>4</th>\n",
       "      <td>192.168.43.241</td>\n",
       "      <td>3</td>\n",
       "    </tr>\n",
       "    <tr>\n",
       "      <th>...</th>\n",
       "      <td>...</td>\n",
       "      <td>...</td>\n",
       "    </tr>\n",
       "    <tr>\n",
       "      <th>124940</th>\n",
       "      <td>192.168.43.241</td>\n",
       "      <td>3</td>\n",
       "    </tr>\n",
       "    <tr>\n",
       "      <th>124941</th>\n",
       "      <td>192.168.43.241</td>\n",
       "      <td>3</td>\n",
       "    </tr>\n",
       "    <tr>\n",
       "      <th>124942</th>\n",
       "      <td>192.168.43.241</td>\n",
       "      <td>3</td>\n",
       "    </tr>\n",
       "    <tr>\n",
       "      <th>124943</th>\n",
       "      <td>192.168.43.241</td>\n",
       "      <td>3</td>\n",
       "    </tr>\n",
       "    <tr>\n",
       "      <th>124944</th>\n",
       "      <td>192.168.43.241</td>\n",
       "      <td>3</td>\n",
       "    </tr>\n",
       "  </tbody>\n",
       "</table>\n",
       "<p>124945 rows × 2 columns</p>\n",
       "</div>"
      ],
      "text/plain": [
       "                    IP  IPAddress\n",
       "0       192.168.43.241          3\n",
       "1       192.168.43.241          3\n",
       "2       192.168.43.241          3\n",
       "3       192.168.43.241          3\n",
       "4       192.168.43.241          3\n",
       "...                ...        ...\n",
       "124940  192.168.43.241          3\n",
       "124941  192.168.43.241          3\n",
       "124942  192.168.43.241          3\n",
       "124943  192.168.43.241          3\n",
       "124944  192.168.43.241          3\n",
       "\n",
       "[124945 rows x 2 columns]"
      ]
     },
     "execution_count": 19,
     "metadata": {},
     "output_type": "execute_result"
    }
   ],
   "source": [
    "final_ip = pd.concat(ips , axis=1)\n",
    "final_ip"
   ]
  },
  {
   "cell_type": "code",
   "execution_count": 20,
   "metadata": {},
   "outputs": [
    {
     "data": {
      "text/plain": [
       "<matplotlib.collections.PathCollection at 0x2ba16cca088>"
      ]
     },
     "execution_count": 20,
     "metadata": {},
     "output_type": "execute_result"
    },
    {
     "data": {
      "image/png": "[encoded data removed]",
      "text/plain": [
       "<Figure size 432x288 with 1 Axes>"
      ]
     },
     "metadata": {},
     "output_type": "display_data"
    }
   ],
   "source": [
    "import matplotlib.pyplot as plt\n",
    "plt.scatter(SCALED_DATASET['IP'], SCALED_DATASET['client'], c=SCALED_DATASET['cluster'])\n"
   ]
  },
  {
   "cell_type": "code",
   "execution_count": 21,
   "metadata": {},
   "outputs": [
    {
     "data": {
      "text/html": [
       "<div>\n",
       "<style scoped>\n",
       "    .dataframe tbody tr th:only-of-type {\n",
       "        vertical-align: middle;\n",
       "    }\n",
       "\n",
       "    .dataframe tbody tr th {\n",
       "        vertical-align: top;\n",
       "    }\n",
       "\n",
       "    .dataframe thead th {\n",
       "        text-align: right;\n",
       "    }\n",
       "</style>\n",
       "<table border=\"1\" class=\"dataframe\">\n",
       "  <thead>\n",
       "    <tr style=\"text-align: right;\">\n",
       "      <th></th>\n",
       "      <th>IP</th>\n",
       "      <th>DATE</th>\n",
       "      <th>OUTPUT</th>\n",
       "    </tr>\n",
       "  </thead>\n",
       "  <tbody>\n",
       "    <tr>\n",
       "      <th>0</th>\n",
       "      <td>192.168.43.241</td>\n",
       "      <td>06/Jul/2020:03:47:28 +0530</td>\n",
       "      <td>403 3985</td>\n",
       "    </tr>\n",
       "    <tr>\n",
       "      <th>1</th>\n",
       "      <td>192.168.43.241</td>\n",
       "      <td>06/Jul/2020:03:47:28 +0530</td>\n",
       "      <td>403 3985</td>\n",
       "    </tr>\n",
       "    <tr>\n",
       "      <th>2</th>\n",
       "      <td>192.168.43.241</td>\n",
       "      <td>06/Jul/2020:03:47:28 +0530</td>\n",
       "      <td>403 3985</td>\n",
       "    </tr>\n",
       "    <tr>\n",
       "      <th>3</th>\n",
       "      <td>192.168.43.241</td>\n",
       "      <td>06/Jul/2020:03:47:28 +0530</td>\n",
       "      <td>403 3985</td>\n",
       "    </tr>\n",
       "    <tr>\n",
       "      <th>4</th>\n",
       "      <td>192.168.43.241</td>\n",
       "      <td>06/Jul/2020:03:47:28 +0530</td>\n",
       "      <td>403 3985</td>\n",
       "    </tr>\n",
       "    <tr>\n",
       "      <th>...</th>\n",
       "      <td>...</td>\n",
       "      <td>...</td>\n",
       "      <td>...</td>\n",
       "    </tr>\n",
       "    <tr>\n",
       "      <th>124940</th>\n",
       "      <td>192.168.43.241</td>\n",
       "      <td>06/Jul/2020:03:52:11 +0530</td>\n",
       "      <td>403 3985</td>\n",
       "    </tr>\n",
       "    <tr>\n",
       "      <th>124941</th>\n",
       "      <td>192.168.43.241</td>\n",
       "      <td>06/Jul/2020:03:53:03 +0530</td>\n",
       "      <td></td>\n",
       "    </tr>\n",
       "    <tr>\n",
       "      <th>124942</th>\n",
       "      <td>192.168.43.241</td>\n",
       "      <td>06/Jul/2020:04:02:37 +0530</td>\n",
       "      <td>GET /index.html HTTP/1.1</td>\n",
       "    </tr>\n",
       "    <tr>\n",
       "      <th>124943</th>\n",
       "      <td>192.168.43.241</td>\n",
       "      <td>06/Jul/2020:04:02:37 +0530</td>\n",
       "      <td>GET /favicon.ico HTTP/1.1</td>\n",
       "    </tr>\n",
       "    <tr>\n",
       "      <th>124944</th>\n",
       "      <td>192.168.43.241</td>\n",
       "      <td>06/Jul/2020:04:03:28 +0530</td>\n",
       "      <td></td>\n",
       "    </tr>\n",
       "  </tbody>\n",
       "</table>\n",
       "<p>124945 rows × 3 columns</p>\n",
       "</div>"
      ],
      "text/plain": [
       "                    IP                        DATE                     OUTPUT\n",
       "0       192.168.43.241  06/Jul/2020:03:47:28 +0530                  403 3985 \n",
       "1       192.168.43.241  06/Jul/2020:03:47:28 +0530                  403 3985 \n",
       "2       192.168.43.241  06/Jul/2020:03:47:28 +0530                  403 3985 \n",
       "3       192.168.43.241  06/Jul/2020:03:47:28 +0530                  403 3985 \n",
       "4       192.168.43.241  06/Jul/2020:03:47:28 +0530                  403 3985 \n",
       "...                ...                         ...                        ...\n",
       "124940  192.168.43.241  06/Jul/2020:03:52:11 +0530                  403 3985 \n",
       "124941  192.168.43.241  06/Jul/2020:03:53:03 +0530                           \n",
       "124942  192.168.43.241  06/Jul/2020:04:02:37 +0530   GET /index.html HTTP/1.1\n",
       "124943  192.168.43.241  06/Jul/2020:04:02:37 +0530  GET /favicon.ico HTTP/1.1\n",
       "124944  192.168.43.241  06/Jul/2020:04:03:28 +0530                           \n",
       "\n",
       "[124945 rows x 3 columns]"
      ]
     },
     "execution_count": 21,
     "metadata": {},
     "output_type": "execute_result"
    }
   ],
   "source": [
    "import pandas as pd\n",
    "data = pd.read_csv(\"C:/Users/Prince Raj/Desktop/mylogs.csv\")\n",
    "data"
   ]
  },
  {
   "cell_type": "code",
   "execution_count": 22,
   "metadata": {},
   "outputs": [
    {
     "data": {
      "text/html": [
       "<div>\n",
       "<style scoped>\n",
       "    .dataframe tbody tr th:only-of-type {\n",
       "        vertical-align: middle;\n",
       "    }\n",
       "\n",
       "    .dataframe tbody tr th {\n",
       "        vertical-align: top;\n",
       "    }\n",
       "\n",
       "    .dataframe thead th {\n",
       "        text-align: right;\n",
       "    }\n",
       "</style>\n",
       "<table border=\"1\" class=\"dataframe\">\n",
       "  <thead>\n",
       "    <tr style=\"text-align: right;\">\n",
       "      <th></th>\n",
       "      <th>DATE</th>\n",
       "      <th>OUTPUT</th>\n",
       "    </tr>\n",
       "    <tr>\n",
       "      <th>IP</th>\n",
       "      <th></th>\n",
       "      <th></th>\n",
       "    </tr>\n",
       "  </thead>\n",
       "  <tbody>\n",
       "    <tr>\n",
       "      <th>192.168.43.105</th>\n",
       "      <td>7</td>\n",
       "      <td>7</td>\n",
       "    </tr>\n",
       "    <tr>\n",
       "      <th>192.168.43.108</th>\n",
       "      <td>1</td>\n",
       "      <td>1</td>\n",
       "    </tr>\n",
       "    <tr>\n",
       "      <th>192.168.43.113</th>\n",
       "      <td>1</td>\n",
       "      <td>1</td>\n",
       "    </tr>\n",
       "    <tr>\n",
       "      <th>192.168.43.241</th>\n",
       "      <td>124934</td>\n",
       "      <td>124934</td>\n",
       "    </tr>\n",
       "    <tr>\n",
       "      <th>192.168.43.37</th>\n",
       "      <td>2</td>\n",
       "      <td>2</td>\n",
       "    </tr>\n",
       "  </tbody>\n",
       "</table>\n",
       "</div>"
      ],
      "text/plain": [
       "                  DATE  OUTPUT\n",
       "IP                            \n",
       "192.168.43.105       7       7\n",
       "192.168.43.108       1       1\n",
       "192.168.43.113       1       1\n",
       "192.168.43.241  124934  124934\n",
       "192.168.43.37        2       2"
      ]
     },
     "execution_count": 22,
     "metadata": {},
     "output_type": "execute_result"
    }
   ],
   "source": [
    "count=data.groupby(\"IP\").count()\n",
    "count"
   ]
  },
  {
   "cell_type": "code",
   "execution_count": 23,
   "metadata": {},
   "outputs": [
    {
     "data": {
      "text/plain": [
       "IP\n",
       "192.168.43.105         7\n",
       "192.168.43.108         1\n",
       "192.168.43.113         1\n",
       "192.168.43.241    124934\n",
       "192.168.43.37          2\n",
       "Name: OUTPUT, dtype: int64"
      ]
     },
     "execution_count": 23,
     "metadata": {},
     "output_type": "execute_result"
    }
   ],
   "source": [
    "count['OUTPUT']"
   ]
  },
  {
   "cell_type": "code",
   "execution_count": 24,
   "metadata": {},
   "outputs": [],
   "source": [
    "#Now checking the maximum times the server was under attack by single ip\n",
    "mylist=[]\n",
    "def myanalysis(count):\n",
    "    for x in count['OUTPUT']:\n",
    "        if x not in mylist and x>250:\n",
    "            mylist.append(x)\n",
    "            return x\n",
    "occur=myanalysis(count)"
   ]
  }
 ],
 "metadata": {
  "kernelspec": {
   "display_name": "Python 3",
   "language": "python",
   "name": "python3"
  },
  "language_info": {
   "codemirror_mode": {
    "name": "ipython",
    "version": 3
   },
   "file_extension": ".py",
   "mimetype": "text/x-python",
   "name": "python",
   "nbconvert_exporter": "python",
   "pygments_lexer": "ipython3",
   "version": "3.7.6"
  }
 },
 "nbformat": 4,
 "nbformat_minor": 4
}
